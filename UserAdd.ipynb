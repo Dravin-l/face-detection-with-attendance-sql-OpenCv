{
 "cells": [
  {
   "cell_type": "code",
   "execution_count": 2,
   "id": "3d9726c0",
   "metadata": {},
   "outputs": [
    {
     "name": "stdout",
     "output_type": "stream",
     "text": [
      "Please look at the camera and press 'c' to capture an image (capture 5 images):\n",
      "Image saved: C:\\Users\\Admin\\Desktop\\ML-project\\CGC_Face_recognition\\dataset/dravinn/dravinn_0.jpg\n",
      "Image saved: C:\\Users\\Admin\\Desktop\\ML-project\\CGC_Face_recognition\\dataset/dravinn/dravinn_1.jpg\n",
      "Image saved: C:\\Users\\Admin\\Desktop\\ML-project\\CGC_Face_recognition\\dataset/dravinn/dravinn_2.jpg\n",
      "Image saved: C:\\Users\\Admin\\Desktop\\ML-project\\CGC_Face_recognition\\dataset/dravinn/dravinn_3.jpg\n",
      "Image saved: C:\\Users\\Admin\\Desktop\\ML-project\\CGC_Face_recognition\\dataset/dravinn/dravinn_4.jpg\n",
      "Image saved: C:\\Users\\Admin\\Desktop\\ML-project\\CGC_Face_recognition\\dataset/dravinn/dravinn_5.jpg\n",
      "Image saved: C:\\Users\\Admin\\Desktop\\ML-project\\CGC_Face_recognition\\dataset/dravinn/dravinn_6.jpg\n",
      "Image saved: C:\\Users\\Admin\\Desktop\\ML-project\\CGC_Face_recognition\\dataset/dravinn/dravinn_7.jpg\n",
      "Image saved: C:\\Users\\Admin\\Desktop\\ML-project\\CGC_Face_recognition\\dataset/dravinn/dravinn_8.jpg\n",
      "Image saved: C:\\Users\\Admin\\Desktop\\ML-project\\CGC_Face_recognition\\dataset/dravinn/dravinn_9.jpg\n",
      "Images captured successfully.\n"
     ]
    }
   ],
   "source": [
    "import cv2\n",
    "import os\n",
    "\n",
    "def capture_images(label, dataset_path):\n",
    "    # Create a directory for the new person if it doesn't exist\n",
    "    person_dir = os.path.join(dataset_path, label)\n",
    "    if not os.path.exists(person_dir):\n",
    "        os.makedirs(person_dir)\n",
    "\n",
    "    # Open webcam\n",
    "    cap = cv2.VideoCapture(0)\n",
    "\n",
    "    # Counter for the number of images captured\n",
    "    count = 0\n",
    "\n",
    "    while True:\n",
    "        # Capture frame-by-frame\n",
    "        ret, frame = cap.read()\n",
    "\n",
    "        # Display the captured frame\n",
    "        cv2.imshow('Capture Images', frame)\n",
    "\n",
    "        # Save the image if 'c' is pressed\n",
    "        if cv2.waitKey(1) & 0xFF == ord('c'):\n",
    "            image_path = os.path.join(person_dir, f'{label}_{count}.jpg')\n",
    "            cv2.imwrite(image_path, frame)\n",
    "            print(f\"Image saved: {image_path}\")\n",
    "            count += 1\n",
    "\n",
    "        if count >= 10 or cv2.waitKey(1) & 0xFF == ord('q'):\n",
    "            break\n",
    "\n",
    "    cap.release()\n",
    "    cv2.destroyAllWindows()\n",
    "\n",
    "def main():\n",
    "    dataset_path = r\"C:\\Users\\Admin\\Desktop\\ML-project\\CGC_Face_recognition\\dataset\"\n",
    "    label = input(\"Enter the name of the new person: \")\n",
    "    print(\"Please look at the camera and press 'c' to capture an image (capture 5 images):\")\n",
    "    capture_images(label, dataset_path)\n",
    "    print(\"Images captured successfully.\")\n",
    "\n",
    "if __name__ == \"__main__\":\n",
    "    main()\n"
   ]
  }
 ],
 "metadata": {
  "interpreter": {
   "hash": "4b987112b98e8c0c48f0cad1d4b43d4252a84b5e1b032bd9833517295937fbb1"
  },
  "kernelspec": {
   "display_name": "Python 3.9.19 ('base')",
   "language": "python",
   "name": "python3"
  },
  "language_info": {
   "codemirror_mode": {
    "name": "ipython",
    "version": 3
   },
   "file_extension": ".py",
   "mimetype": "text/x-python",
   "name": "python",
   "nbconvert_exporter": "python",
   "pygments_lexer": "ipython3",
   "version": "3.9.19"
  }
 },
 "nbformat": 4,
 "nbformat_minor": 5
}
